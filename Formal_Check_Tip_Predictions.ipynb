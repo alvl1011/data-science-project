{
 "cells": [
  {
   "cell_type": "code",
   "execution_count": 1,
   "id": "44838224",
   "metadata": {
    "executionInfo": {
     "elapsed": 2430,
     "status": "ok",
     "timestamp": 1748036233484,
     "user": {
      "displayName": "Reimar Hofmann",
      "userId": "14216094375120253397"
     },
     "user_tz": -120
    },
    "id": "44838224"
   },
   "outputs": [],
   "source": [
    "import numpy as np\n",
    "import pandas as pd\n",
    "from sklearn.metrics import  accuracy_score, confusion_matrix"
   ]
  },
  {
   "cell_type": "markdown",
   "id": "LrPwmQ9KCZTd",
   "metadata": {
    "id": "LrPwmQ9KCZTd"
   },
   "source": [
    "## Adjust the following blocks\n",
    "so it will load the template file specified by me and the csv file with your submission.  "
   ]
  },
  {
   "cell_type": "code",
   "execution_count": 3,
   "id": "mzn1QWd99_pk",
   "metadata": {
    "colab": {
     "base_uri": "https://localhost:8080/",
     "height": 221
    },
    "executionInfo": {
     "elapsed": 210,
     "status": "ok",
     "timestamp": 1748036234812,
     "user": {
      "displayName": "Reimar Hofmann",
      "userId": "14216094375120253397"
     },
     "user_tz": -120
    },
    "id": "mzn1QWd99_pk",
    "outputId": "ad44832f-d722-4a32-9fbf-e6956c7f4b08"
   },
   "outputs": [
    {
     "name": "stdout",
     "output_type": "stream",
     "text": [
      "Size of test set:  39419\n"
     ]
    },
    {
     "data": {
      "text/html": [
       "<div>\n",
       "<style scoped>\n",
       "    .dataframe tbody tr th:only-of-type {\n",
       "        vertical-align: middle;\n",
       "    }\n",
       "\n",
       "    .dataframe tbody tr th {\n",
       "        vertical-align: top;\n",
       "    }\n",
       "\n",
       "    .dataframe thead th {\n",
       "        text-align: right;\n",
       "    }\n",
       "</style>\n",
       "<table border=\"1\" class=\"dataframe\">\n",
       "  <thead>\n",
       "    <tr style=\"text-align: right;\">\n",
       "      <th></th>\n",
       "      <th>Unnamed: 0</th>\n",
       "      <th>order_id</th>\n",
       "      <th>tip</th>\n",
       "    </tr>\n",
       "  </thead>\n",
       "  <tbody>\n",
       "    <tr>\n",
       "      <th>0</th>\n",
       "      <td>17</td>\n",
       "      <td>2196797</td>\n",
       "      <td>False</td>\n",
       "    </tr>\n",
       "    <tr>\n",
       "      <th>1</th>\n",
       "      <td>34</td>\n",
       "      <td>1827621</td>\n",
       "      <td>False</td>\n",
       "    </tr>\n",
       "    <tr>\n",
       "      <th>2</th>\n",
       "      <td>64</td>\n",
       "      <td>2461523</td>\n",
       "      <td>True</td>\n",
       "    </tr>\n",
       "    <tr>\n",
       "      <th>3</th>\n",
       "      <td>156</td>\n",
       "      <td>2614670</td>\n",
       "      <td>True</td>\n",
       "    </tr>\n",
       "    <tr>\n",
       "      <th>4</th>\n",
       "      <td>175</td>\n",
       "      <td>3110252</td>\n",
       "      <td>False</td>\n",
       "    </tr>\n",
       "  </tbody>\n",
       "</table>\n",
       "</div>"
      ],
      "text/plain": [
       "   Unnamed: 0  order_id    tip\n",
       "0          17   2196797  False\n",
       "1          34   1827621  False\n",
       "2          64   2461523   True\n",
       "3         156   2614670   True\n",
       "4         175   3110252  False"
      ]
     },
     "execution_count": 3,
     "metadata": {},
     "output_type": "execute_result"
    }
   ],
   "source": [
    "# For really scoring your submissions a file containing the true labels will be used.\n",
    "# For checking your submission formally now, we will check against a table derived from the\n",
    "# test set label by adding random labels:\n",
    "reference = pd.read_csv('tip25_testdata_template.csv')\n",
    "n = len(reference.index)\n",
    "print('Size of test set: ', n)\n",
    "reference.tip = np.random.choice([False, True], size=n)\n",
    "reference.head()"
   ]
  },
  {
   "cell_type": "code",
   "execution_count": 4,
   "id": "HZpjj7Mh1yLy",
   "metadata": {
    "colab": {
     "base_uri": "https://localhost:8080/",
     "height": 204
    },
    "executionInfo": {
     "elapsed": 154,
     "status": "ok",
     "timestamp": 1748036256274,
     "user": {
      "displayName": "Reimar Hofmann",
      "userId": "14216094375120253397"
     },
     "user_tz": -120
    },
    "id": "HZpjj7Mh1yLy",
    "outputId": "90943de6-5fb6-43da-dc52-1b8cb9c26e6b"
   },
   "outputs": [
    {
     "data": {
      "text/html": [
       "<div>\n",
       "<style scoped>\n",
       "    .dataframe tbody tr th:only-of-type {\n",
       "        vertical-align: middle;\n",
       "    }\n",
       "\n",
       "    .dataframe tbody tr th {\n",
       "        vertical-align: top;\n",
       "    }\n",
       "\n",
       "    .dataframe thead th {\n",
       "        text-align: right;\n",
       "    }\n",
       "</style>\n",
       "<table border=\"1\" class=\"dataframe\">\n",
       "  <thead>\n",
       "    <tr style=\"text-align: right;\">\n",
       "      <th></th>\n",
       "      <th>Unnamed: 0</th>\n",
       "      <th>order_id</th>\n",
       "      <th>tip</th>\n",
       "    </tr>\n",
       "  </thead>\n",
       "  <tbody>\n",
       "    <tr>\n",
       "      <th>0</th>\n",
       "      <td>17</td>\n",
       "      <td>2196797</td>\n",
       "      <td>False</td>\n",
       "    </tr>\n",
       "    <tr>\n",
       "      <th>1</th>\n",
       "      <td>34</td>\n",
       "      <td>1827621</td>\n",
       "      <td>True</td>\n",
       "    </tr>\n",
       "    <tr>\n",
       "      <th>2</th>\n",
       "      <td>64</td>\n",
       "      <td>2461523</td>\n",
       "      <td>True</td>\n",
       "    </tr>\n",
       "    <tr>\n",
       "      <th>3</th>\n",
       "      <td>156</td>\n",
       "      <td>2614670</td>\n",
       "      <td>False</td>\n",
       "    </tr>\n",
       "    <tr>\n",
       "      <th>4</th>\n",
       "      <td>175</td>\n",
       "      <td>3110252</td>\n",
       "      <td>False</td>\n",
       "    </tr>\n",
       "  </tbody>\n",
       "</table>\n",
       "</div>"
      ],
      "text/plain": [
       "   Unnamed: 0  order_id    tip\n",
       "0          17   2196797  False\n",
       "1          34   1827621   True\n",
       "2          64   2461523   True\n",
       "3         156   2614670  False\n",
       "4         175   3110252  False"
      ]
     },
     "execution_count": 4,
     "metadata": {},
     "output_type": "execute_result"
    }
   ],
   "source": [
    "# Load the submission with True/False classification (Deliverable 1 from the main task)\n",
    "\n",
    "submission_A = pd.read_csv('Team_2_submission_A.csv')\n",
    "submission_A.head()"
   ]
  },
  {
   "cell_type": "code",
   "execution_count": 5,
   "id": "lOh2Ez8Q1yEx",
   "metadata": {
    "colab": {
     "base_uri": "https://localhost:8080/",
     "height": 204
    },
    "executionInfo": {
     "elapsed": 206,
     "status": "ok",
     "timestamp": 1748036260870,
     "user": {
      "displayName": "Reimar Hofmann",
      "userId": "14216094375120253397"
     },
     "user_tz": -120
    },
    "id": "lOh2Ez8Q1yEx",
    "outputId": "86c39d34-0d2f-468e-f5a7-40e65ea372b4"
   },
   "outputs": [
    {
     "data": {
      "text/html": [
       "<div>\n",
       "<style scoped>\n",
       "    .dataframe tbody tr th:only-of-type {\n",
       "        vertical-align: middle;\n",
       "    }\n",
       "\n",
       "    .dataframe tbody tr th {\n",
       "        vertical-align: top;\n",
       "    }\n",
       "\n",
       "    .dataframe thead th {\n",
       "        text-align: right;\n",
       "    }\n",
       "</style>\n",
       "<table border=\"1\" class=\"dataframe\">\n",
       "  <thead>\n",
       "    <tr style=\"text-align: right;\">\n",
       "      <th></th>\n",
       "      <th>Unnamed: 0</th>\n",
       "      <th>order_id</th>\n",
       "      <th>tip</th>\n",
       "    </tr>\n",
       "  </thead>\n",
       "  <tbody>\n",
       "    <tr>\n",
       "      <th>0</th>\n",
       "      <td>17</td>\n",
       "      <td>2196797</td>\n",
       "      <td>0.200934</td>\n",
       "    </tr>\n",
       "    <tr>\n",
       "      <th>1</th>\n",
       "      <td>34</td>\n",
       "      <td>1827621</td>\n",
       "      <td>0.902289</td>\n",
       "    </tr>\n",
       "    <tr>\n",
       "      <th>2</th>\n",
       "      <td>64</td>\n",
       "      <td>2461523</td>\n",
       "      <td>0.758839</td>\n",
       "    </tr>\n",
       "    <tr>\n",
       "      <th>3</th>\n",
       "      <td>156</td>\n",
       "      <td>2614670</td>\n",
       "      <td>0.257580</td>\n",
       "    </tr>\n",
       "    <tr>\n",
       "      <th>4</th>\n",
       "      <td>175</td>\n",
       "      <td>3110252</td>\n",
       "      <td>0.191941</td>\n",
       "    </tr>\n",
       "  </tbody>\n",
       "</table>\n",
       "</div>"
      ],
      "text/plain": [
       "   Unnamed: 0  order_id       tip\n",
       "0          17   2196797  0.200934\n",
       "1          34   1827621  0.902289\n",
       "2          64   2461523  0.758839\n",
       "3         156   2614670  0.257580\n",
       "4         175   3110252  0.191941"
      ]
     },
     "execution_count": 5,
     "metadata": {},
     "output_type": "execute_result"
    }
   ],
   "source": [
    "# Load the submission with tip-probability predictions (Deliverable 2 from the main task)\n",
    "submission_B = pd.read_csv('Team_2_submission_B.csv')\n",
    "submission_B.head()"
   ]
  },
  {
   "cell_type": "code",
   "execution_count": 6,
   "id": "549fbcba",
   "metadata": {
    "executionInfo": {
     "elapsed": 45,
     "status": "ok",
     "timestamp": 1748036266468,
     "user": {
      "displayName": "Reimar Hofmann",
      "userId": "14216094375120253397"
     },
     "user_tz": -120
    },
    "id": "549fbcba"
   },
   "outputs": [],
   "source": []
  },
  {
   "cell_type": "code",
   "execution_count": 6,
   "id": "b4cfd2db",
   "metadata": {
    "executionInfo": {
     "elapsed": 2,
     "status": "ok",
     "timestamp": 1748036266471,
     "user": {
      "displayName": "Reimar Hofmann",
      "userId": "14216094375120253397"
     },
     "user_tz": -120
    },
    "id": "b4cfd2db"
   },
   "outputs": [],
   "source": [
    "def evaluate_A(submitted_df):\n",
    "    print('Submission A:')\n",
    "    print('Size of submission: ', len(submitted_df.index))\n",
    "    print('All the subsequent checks should return 0 for a correct submission:')\n",
    "    print('Missing orders:\\t'+str((~reference.order_id.isin(submitted_df.order_id)).sum()))\n",
    "    print('Superfluous orders:\\t'+str((~submitted_df.order_id.isin(reference.order_id)).sum()))\n",
    "    print('Wrong values or NaNs:'+str(sum(submitted_df.tip.isna() | (~submitted_df.tip.isin([True, False])))))\n",
    "    print('')\n",
    "    print('Here the accuracy computation is simulated: If this code throws errors, then probably the column with the tip predictions contains invalid entries.')\n",
    "    print('If it shows an accuracy close to 0.5 everything seems to be fine.')\n",
    "    join = pd.merge(reference, submitted_df, how='inner', on=['order_id'], suffixes=('_true','_pred'))\n",
    "    accuracy = accuracy_score(join.tip_true, join.tip_pred)\n",
    "    print('Accuracy: ', accuracy, '\\t =', accuracy_score(join.tip_true, join.tip_pred, normalize=False),' of ', len(reference.index),' samples are classified correctly.' )\n",
    "    print('Confusion:')\n",
    "    print(confusion_matrix(join.tip_true, join.tip_pred,normalize='true'))\n",
    "    print('')\n",
    "\n",
    "    return accuracy"
   ]
  },
  {
   "cell_type": "code",
   "execution_count": 7,
   "id": "05TTkgqu2O0U",
   "metadata": {
    "executionInfo": {
     "elapsed": 4,
     "status": "ok",
     "timestamp": 1748036266474,
     "user": {
      "displayName": "Reimar Hofmann",
      "userId": "14216094375120253397"
     },
     "user_tz": -120
    },
    "id": "05TTkgqu2O0U"
   },
   "outputs": [],
   "source": [
    "def evaluate_B(submitted_df):\n",
    "    print('Submission B:')\n",
    "    print('Size of submission: ', len(submitted_df.index))\n",
    "    print('All the subsequent checks should return 0 for a correct submission:')\n",
    "    print('Missing orders:\\t'+str((~reference.order_id.isin(submitted_df.order_id)).sum()))\n",
    "    print('Superfluous orders:\\t'+str((~submitted_df.order_id.isin(reference.order_id)).sum()))\n",
    "    print('Wrong values or NaNs:'+str(sum(submitted_df.tip.isna() | (submitted_df.tip >1) | (submitted_df.tip<0))))\n",
    "    num_01 = sum(submitted_df.tip==0)+sum(submitted_df.tip==1)\n",
    "    print('Wrong probabilities:\\t'+str(num_01))\n",
    "    print('Probability 0 or 1 is predicted '+ str(num_01) + ' times.')\n",
    "    if num_01>0:\n",
    "      print('It is dangerous to predict probability 0 or 1: If only one of such predictions is wrong, then your log-loss will be infinity.')\n",
    "    print('')\n",
    "    print('Here the log-loss is computed. If this code throws errors, then probably the column with the tip probabilities contains invalid entries.')\n",
    "    join = pd.merge(reference, submitted_df, how='inner', on=['order_id'], suffixes=('_true','_pred'))\n",
    "    join['ll'] = np.where(reference['tip'] == True, -np.log(submitted_df.tip), -np.log(1-submitted_df.tip))\n",
    "    ll = join.ll.mean()\n",
    "    print('Log-loss: ', ll)\n",
    "    print('')\n",
    "\n",
    "    return ll"
   ]
  },
  {
   "cell_type": "code",
   "execution_count": 8,
   "id": "881303e5",
   "metadata": {
    "colab": {
     "base_uri": "https://localhost:8080/"
    },
    "executionInfo": {
     "elapsed": 63,
     "status": "ok",
     "timestamp": 1748036266540,
     "user": {
      "displayName": "Reimar Hofmann",
      "userId": "14216094375120253397"
     },
     "user_tz": -120
    },
    "id": "881303e5",
    "outputId": "2778adb7-afe8-45d1-d3b8-5f8259800a38"
   },
   "outputs": [
    {
     "name": "stdout",
     "output_type": "stream",
     "text": [
      "Submission A:\n",
      "Size of submission:  39419\n",
      "All the subsequent checks should return 0 for a correct submission:\n",
      "Missing orders:\t0\n",
      "Superfluous orders:\t0\n",
      "Wrong values or NaNs:0\n",
      "\n",
      "Here the accuracy computation is simulated: If this code throws errors, then probably the column with the tip predictions contains invalid entries.\n",
      "If it shows an accuracy close to 0.5 everything seems to be fine.\n",
      "Accuracy:  0.5028539536771608 \t = 19822.0  of  39419  samples are classified correctly.\n",
      "Confusion:\n",
      "[[0.55615594 0.44384406]\n",
      " [0.55095071 0.44904929]]\n",
      "\n"
     ]
    },
    {
     "data": {
      "text/plain": [
       "0.5028539536771608"
      ]
     },
     "execution_count": 8,
     "metadata": {},
     "output_type": "execute_result"
    }
   ],
   "source": [
    "evaluate_A(submission_A)"
   ]
  },
  {
   "cell_type": "code",
   "execution_count": 9,
   "id": "c85f0007",
   "metadata": {
    "colab": {
     "base_uri": "https://localhost:8080/"
    },
    "executionInfo": {
     "elapsed": 51,
     "status": "ok",
     "timestamp": 1748036266592,
     "user": {
      "displayName": "Reimar Hofmann",
      "userId": "14216094375120253397"
     },
     "user_tz": -120
    },
    "id": "c85f0007",
    "outputId": "3cd70632-f61a-4d07-ba13-3ead19b0a3b1"
   },
   "outputs": [
    {
     "name": "stdout",
     "output_type": "stream",
     "text": [
      "Submission B:\n",
      "Size of submission:  39419\n",
      "All the subsequent checks should return 0 for a correct submission:\n",
      "Missing orders:\t0\n",
      "Superfluous orders:\t0\n",
      "Wrong values or NaNs:0\n",
      "Wrong probabilities:\t0\n",
      "Probability 0 or 1 is predicted 0 times.\n",
      "\n",
      "Here the log-loss is computed. If this code throws errors, then probably the column with the tip probabilities contains invalid entries.\n",
      "Log-loss:  0.872070631499428\n",
      "\n"
     ]
    },
    {
     "data": {
      "text/plain": [
       "0.872070631499428"
      ]
     },
     "execution_count": 9,
     "metadata": {},
     "output_type": "execute_result"
    }
   ],
   "source": [
    "evaluate_B(submission_B)"
   ]
  },
  {
   "cell_type": "code",
   "execution_count": null,
   "id": "ae75387e-5342-488e-b404-1143a41efc4f",
   "metadata": {},
   "outputs": [],
   "source": []
  }
 ],
 "metadata": {
  "colab": {
   "provenance": []
  },
  "kernelspec": {
   "display_name": "Python (pyenv 3.11.9)",
   "language": "python",
   "name": "pyenv_3.11.9"
  },
  "language_info": {
   "codemirror_mode": {
    "name": "ipython",
    "version": 3
   },
   "file_extension": ".py",
   "mimetype": "text/x-python",
   "name": "python",
   "nbconvert_exporter": "python",
   "pygments_lexer": "ipython3",
   "version": "3.11.9"
  }
 },
 "nbformat": 4,
 "nbformat_minor": 5
}
