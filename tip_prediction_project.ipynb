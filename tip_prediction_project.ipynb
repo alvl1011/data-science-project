{
 "cells": [
  {
   "cell_type": "markdown",
   "id": "5a3ca5f3",
   "metadata": {},
   "source": [
    "## 📘 Tip Prediction Project"
   ]
  },
  {
   "cell_type": "code",
   "execution_count": null,
   "id": "d239468c",
   "metadata": {},
   "outputs": [],
   "source": [
    "import pandas as pd\n",
    "import numpy as np\n",
    "import seaborn as sns\n",
    "import matplotlib.pyplot as plt\n",
    "\n",
    "from sklearn.model_selection import train_test_split\n",
    "from sklearn.ensemble import RandomForestClassifier\n",
    "from sklearn.metrics import classification_report, roc_auc_score, log_loss\n"
   ]
  },
  {
   "cell_type": "markdown",
   "id": "36aeb631",
   "metadata": {},
   "source": [
    "### Load Data"
   ]
  },
  {
   "cell_type": "code",
   "execution_count": null,
   "id": "3164f755",
   "metadata": {},
   "outputs": [],
   "source": [
    "orders = pd.read_parquet(\"orders.parquet\")\n",
    "order_products = pd.read_csv(\"order_products.csv\")\n",
    "products = pd.read_csv(\"products.csv\")\n",
    "departments = pd.read_csv(\"departments.csv\")\n",
    "aisles = pd.read_csv(\"aisles.csv\")\n",
    "tips = pd.read_csv(\"tips.csv\")\n"
   ]
  },
  {
   "cell_type": "markdown",
   "id": "44352100",
   "metadata": {},
   "source": [
    "### Merge and Aggregate"
   ]
  },
  {
   "cell_type": "code",
   "execution_count": null,
   "id": "780e721c",
   "metadata": {},
   "outputs": [],
   "source": [
    "merged = (\n",
    "    order_products\n",
    "    .merge(products, on=\"product_id\", how=\"left\")\n",
    "    .merge(orders, on=\"order_id\", how=\"left\")\n",
    "    .merge(tips, on=\"order_id\", how=\"left\")\n",
    "    .merge(aisles, on=\"aisle_id\", how=\"left\")\n",
    "    .merge(departments, on=\"department_id\", how=\"left\")\n",
    ")\n",
    "\n",
    "order_features = merged.groupby(\"order_id\").agg(\n",
    "    total_items=(\"product_id\", \"count\"),\n",
    "    unique_departments=(\"department\", \"nunique\"),\n",
    "    unique_aisles=(\"aisle\", \"nunique\"),\n",
    "    has_dairy=(\"department\", lambda x: \"dairy eggs\" in x.str.lower().values),\n",
    "    order_hour=(\"order_date\", lambda x: pd.to_datetime(x).dt.hour.iloc[0]),\n",
    "    order_weekday=(\"order_date\", lambda x: pd.to_datetime(x).dt.dayofweek.iloc[0])\n",
    ").reset_index()\n",
    "\n",
    "df = order_features.merge(tips, on=\"order_id\", how=\"left\")\n",
    "df[\"label\"] = df[\"tip\"].notna().astype(int)\n",
    "df[\"probability\"] = df[\"label\"]\n"
   ]
  },
  {
   "cell_type": "markdown",
   "id": "a23bacdd",
   "metadata": {},
   "source": [
    "### Train-Test Split"
   ]
  },
  {
   "cell_type": "code",
   "execution_count": null,
   "id": "3ea4d2b6",
   "metadata": {},
   "outputs": [],
   "source": [
    "features = [\"total_items\", \"unique_departments\", \"unique_aisles\", \"has_dairy\", \"order_hour\", \"order_weekday\"]\n",
    "X = df[features].copy()\n",
    "X[\"has_dairy\"] = X[\"has_dairy\"].astype(int)\n",
    "y = df[\"label\"]\n",
    "\n",
    "X_train, X_test, y_train, y_test = train_test_split(X, y, test_size=0.2, random_state=42)\n"
   ]
  },
  {
   "cell_type": "markdown",
   "id": "5b27c686",
   "metadata": {},
   "source": [
    "### Model Training"
   ]
  },
  {
   "cell_type": "code",
   "execution_count": null,
   "id": "a1e026ec",
   "metadata": {},
   "outputs": [],
   "source": [
    "clf = RandomForestClassifier(random_state=42)\n",
    "clf.fit(X_train, y_train)\n",
    "y_pred = clf.predict(X_test)\n",
    "y_proba = clf.predict_proba(X_test)[:, 1]\n",
    "\n",
    "print(\"Classification Report:\\n\", classification_report(y_test, y_pred))\n",
    "print(\"ROC AUC:\", roc_auc_score(y_test, y_proba))\n"
   ]
  },
  {
   "cell_type": "markdown",
   "id": "58fd4a8f",
   "metadata": {},
   "source": [
    "### Output Submission Files"
   ]
  },
  {
   "cell_type": "code",
   "execution_count": null,
   "id": "a5fe7845",
   "metadata": {},
   "outputs": [],
   "source": [
    "submission_A = df[[\"order_id\"]].copy()\n",
    "submission_A[\"tip\"] = clf.predict(X)\n",
    "submission_A.to_csv(\"Team_X_submission_A.csv\", index=False)\n",
    "\n",
    "submission_B = df[[\"order_id\"]].copy()\n",
    "submission_B[\"tip\"] = clf.predict_proba(X)[:, 1]\n",
    "submission_B.to_csv(\"Team_X_submission_B.csv\", index=False)\n"
   ]
  },
  {
   "cell_type": "markdown",
   "id": "cbad343b",
   "metadata": {},
   "source": [
    "### Feature Importance"
   ]
  },
  {
   "cell_type": "code",
   "execution_count": null,
   "id": "7c53c865",
   "metadata": {},
   "outputs": [],
   "source": [
    "importances = pd.Series(clf.feature_importances_, index=features)\n",
    "importances.sort_values().plot(kind=\"barh\", title=\"Feature Importance\")\n",
    "plt.tight_layout()\n",
    "plt.show()\n"
   ]
  }
 ],
 "metadata": {},
 "nbformat": 4,
 "nbformat_minor": 5
}
